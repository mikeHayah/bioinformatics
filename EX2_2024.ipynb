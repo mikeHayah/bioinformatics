{
  "nbformat": 4,
  "nbformat_minor": 0,
  "metadata": {
    "colab": {
      "provenance": [],
      "include_colab_link": true
    },
    "kernelspec": {
      "name": "python3",
      "display_name": "Python 3"
    },
    "language_info": {
      "name": "python"
    }
  },
  "cells": [
    {
      "cell_type": "markdown",
      "metadata": {
        "id": "view-in-github",
        "colab_type": "text"
      },
      "source": [
        "<a href=\"https://colab.research.google.com/github/mikeHayah/bioinformatics/blob/TUD_exercises/EX2_2024.ipynb\" target=\"_parent\"><img src=\"https://colab.research.google.com/assets/colab-badge.svg\" alt=\"Open In Colab\"/></a>"
      ]
    },
    {
      "cell_type": "markdown",
      "source": [
        "# Exercise 2: Introduction to Structure\n",
        "Welcome to the second exercise of applied bioinformatics. In the lecture you learned that sequence comparison is not always suffiecent when comparing protein properties. Today it's all about including structural information in your analysis while learning a few new things about python."
      ],
      "metadata": {
        "id": "rckn9AYb3iel"
      }
    },
    {
      "cell_type": "markdown",
      "source": [
        "## Part 1: Sequence vs. Structure\n",
        "\n",
        "Go to the [PDB](https://www.rcsb.org/) and search the structures for Hemoglobin in Lamprey (2LHB) and Leghemoglobin in yellow lupin (1LH1). Retrieve the sequences and use the code below to compute the perfect matches. Later on we want to compare this value realative to other scores. Therefore we need to adjust it for the sequence lenght since it is expected, that the number of perfect matches will be increased by chance if the sequences are very long. Add a line of code that is calculating the number of perfect matches by the length of the shorter sequence (matches / min(len(seq_a), len(seq_b)). Note the result.\n",
        "Now compare the sequence matches of Leghemoglobin in yellow lupin (1LH1) and Leghemoglobin from Glycine max (1FSL) as well and note the adjusted value. Finally do the same again for Hemoglobin in Lamprey (2LHB) and the hemoglobin-like-protein HbO (1NGK)."
      ],
      "metadata": {
        "id": "fo1etGgw3lAA"
      }
    },
    {
      "cell_type": "code",
      "execution_count": 28,
      "metadata": {
        "id": "Bt_t3yLC3XOl",
        "colab": {
          "base_uri": "https://localhost:8080/"
        },
        "outputId": "515899d1-7951-4547-994e-bc4c1ea1cb71"
      },
      "outputs": [
        {
          "output_type": "stream",
          "name": "stdout",
          "text": [
            "8\n",
            "        *                                                        *       *          *         *                          * *                  *      \n",
            "34\n",
            " * ** * *** ** * * ****     *    ** ***********              *                  * *                           *                         *      \n",
            "7\n",
            "                       * *        *               *     *                                                         *    *        \n",
            "[0.053691275167785234, 0.23776223776223776, 0.0546875]\n",
            "0.053691275167785234\n",
            "0.23776223776223776\n",
            "0.0546875\n"
          ]
        }
      ],
      "source": [
        "# sequences\n",
        "hem_2LHB = 'PIVDTGSVAPLSAAEKTKIRSAWAPVYSTYETSGVDILVKFFTSTPAAQEFFPKFKGLTTADELKKSADVRWHAERIINAVDDAVASMDDTEKMSMKLRNLSGKHAKSFQVDPEYFKVLAAVIADTVAAGDAGFEKLMSMICILLRSAY'\n",
        "leghem_1LH1 = 'GALTESQAALVKSSWEEFNANIPKHTHRFFILVLEIAPAAKDLFSFLKGTSEVPQNNPELQAHAGKVFKLVYEAAIQLEVTGVVVTDATLKNLGSVHVSKGVADAHFPVVKEAILKTIKEVVGAKWSEELNSAWTIAYDELAIVIKKEMDDAA'\n",
        "leghem_1FSL = 'VAFTEKQDALVSSSFEAFKANIPQYSVVFYTSILEKAPAAKDLFSFLANGVDPTNPKLTGHAEKLFALVRDSAGQLKASGTVVADAALGSVHAQKAVTDPQFVVVKEALLKTIKAAVGDKWSDELSRAWEVAYDELAAAIKKA'\n",
        "hem_1NGK = 'MPKSFYDAVGGAKTFDAIVSRFYAQVAEDEVLRRVYPEDDLAGAEERLRMFLEQYWGGPRTYSEQRGHPRLRMRHAPFRISLIERDAWLRCMHTAVASIDSETLDDEHRRELLDYLEMAAHSLVNSPF'\n",
        "\n",
        "def perfect_matches(str_a, str_b):\n",
        "  matches = 0\n",
        "  matchlst = []\n",
        "  for a, b in zip(str_a, str_b):\n",
        "    if a == b:\n",
        "      matches += 1\n",
        "      matchlst.append(\"*\")\n",
        "    else:\n",
        "      matchlst.append(\" \")\n",
        "  return matches, matchlst\n",
        "\n",
        "# compute number perfect matches\n",
        "pmatches1, x = perfect_matches(hem_2LHB, leghem_1LH1)\n",
        "pmatches2, y = perfect_matches(leghem_1FSL, leghem_1LH1)\n",
        "pmatches3, z = perfect_matches(hem_2LHB, hem_1NGK)\n",
        "print(pmatches1)\n",
        "print(\"\".join(x))\n",
        "print(pmatches2)\n",
        "print(\"\".join(y))\n",
        "print(pmatches3)\n",
        "print(\"\".join(z))\n",
        "\n",
        "# adjust number of perfect matches by minimum sequence length\n",
        "rel_pmatches1 =  pmatches1/min(len(hem_2LHB),len(leghem_1LH1))\n",
        "rel_pmatches2 =  pmatches2/min(len(leghem_1FSL),len(leghem_1LH1))\n",
        "rel_pmatches3 =  pmatches3/min(len(hem_2LHB),len(hem_1NGK))\n",
        "scores_SEQ = [rel_pmatches1, rel_pmatches2, rel_pmatches3]\n",
        "print(scores_SEQ)\n",
        "print(rel_pmatches1)\n",
        "print(rel_pmatches2)\n",
        "print(rel_pmatches3)\n",
        "# example\n",
        "#eg = pmatches / min(len(), len())\n"
      ]
    },
    {
      "cell_type": "markdown",
      "source": [
        "Now that we have an estimate on how well the sequences match lets check the structure similarity using TM align. Go to the PDB [alignment interface](https://www.rcsb.org/alignment) and calculate the TM score for the three combinations (2LHB vs. 1LH1; 1LH1 vs. 1FSL; 2LHB vs. 1NGK). Store the adjusted perfect matches and TM scores in the Dictionary below."
      ],
      "metadata": {
        "id": "QlICpXR-4kS_"
      }
    },
    {
      "cell_type": "code",
      "source": [
        "scores_TM = {0.74, 0.83, 0.52}"
      ],
      "metadata": {
        "id": "DdZ_E2-P4FJI"
      },
      "execution_count": 1,
      "outputs": []
    },
    {
      "cell_type": "markdown",
      "source": [
        "Finally you have to visualize your results. In the lecture you already got to know a plot in which sequence similarity and structural similarity are compared with each othere. Recreate that with the three datapoints out of the example. You will have to use [matplotplib](https://matplotlib.org/) and its [scatter](https://matplotlib.org/stable/plot_types/basic/scatter_plot.html#sphx-glr-plot-types-basic-scatter-plot-py) function. Import matplotlib and create a scatter plot with the sequence similarity values on the x-axis and the TM scores on the y-axis. Feel free to beutify the plot with Title, axis labels, and colors as you like. What can you deduce from this simple example? Is comparing only protein sequences sufficient in all cases?\n",
        "\n",
        "Showing screenshots of figures in presentations is usually not a good idea due to the low resolution. Use the [savefig](https://matplotlib.org/stable/api/_as_gen/matplotlib.pyplot.savefig.html) method to save the plot as a high resolution (set dpi to 300) .png file."
      ],
      "metadata": {
        "id": "tG1BpoMP4pD5"
      }
    },
    {
      "cell_type": "code",
      "source": [
        "# Create a scatter plot with matplotlib\n",
        "import matplotlib.pyplot as plt\n",
        "import numpy as np\n",
        "print([k for k in (scores_SEQ)])\n",
        "print([k for k in (scores_TM)])\n",
        "plt.scatter([s for s in (scores_SEQ)], [t for t in (scores_TM)])\n",
        "fig = plt.figure()"
      ],
      "metadata": {
        "id": "7Ajq7ygV4pz2",
        "outputId": "36670c9a-3796-4c8c-9526-f498f7df27eb",
        "colab": {
          "base_uri": "https://localhost:8080/",
          "height": 485
        }
      },
      "execution_count": 29,
      "outputs": [
        {
          "output_type": "stream",
          "name": "stdout",
          "text": [
            "[0.053691275167785234, 0.23776223776223776, 0.0546875]\n",
            "[0.74, 0.83, 0.52]\n"
          ]
        },
        {
          "output_type": "display_data",
          "data": {
            "text/plain": [
              "<Figure size 640x480 with 1 Axes>"
            ],
            "image/png": "[encoded data removed]"
          },
          "metadata": {}
        },
        {
          "output_type": "display_data",
          "data": {
            "text/plain": [
              "<Figure size 640x480 with 0 Axes>"
            ]
          },
          "metadata": {}
        }
      ]
    },
    {
      "cell_type": "markdown",
      "source": [
        "## Part 2: Implement LCS with help of the Internet\n",
        "\n",
        "Counting perfect matches is underestimating the sequence similarity quite a bit and is not a great measure. As you learned in the first lecture a better measure would be the longest common subsequence or LCS. Luckily you don't have to be an expert in algorithms or Python programming anymore to implement a \"standard\" algorithm like that. Try to find a solution with the help of google or ChatGTP that implements the LCS algorithm and compute the lenght of the LCS for the three combinations from Part 1. You can either copy (and maybe adapt) a function you have found or install a python package that does the job. Use the new values in order to recreate the scatter plot."
      ],
      "metadata": {
        "id": "zR6bxDQz4127"
      }
    },
    {
      "cell_type": "code",
      "source": [
        "# Implementation of lcs\n",
        "def longest_common_subsequence(str1, str2):\n",
        "  m = len(str1)\n",
        "  n = len(str2)\n",
        "  dic = {}\n",
        "\n",
        "  for i in range(m+1):\n",
        "    dic[i,0] = 0\n",
        "  for j in range (n+1):\n",
        "    dic[0,j] = 0\n",
        "\n",
        "  for i in range(1, m+1):\n",
        "    for j in range(1, n+1):\n",
        "      if str1[i-1] == str2[j-1]:\n",
        "        dic[i,j] = dic[i-1, j-1] + 1\n",
        "      else:\n",
        "        dic[i,j] = max(dic[i-1,j], dic[i,j-1])\n",
        "\n",
        "  # should return the length of the common subsequence\n",
        "  return dic[m, n]"
      ],
      "metadata": {
        "id": "dUZx1lpE43ek"
      },
      "execution_count": 36,
      "outputs": []
    },
    {
      "cell_type": "code",
      "source": [
        "# Create a scatter plot with matplotlib using new values from LCS\n",
        "LCS1 = longest_common_subsequence(hem_2LHB, leghem_1LH1)\n",
        "LCS2 = longest_common_subsequence(leghem_1FSL, leghem_1LH1)\n",
        "LCS3 = longest_common_subsequence(hem_2LHB, hem_1NGK)\n",
        "plt.scatter([LCS1, LCS2, LCS3], [s for s in (scores_TM)])\n",
        "fig = plt.figure()\n",
        "print([LCS1, LCS2, LCS3])"
      ],
      "metadata": {
        "id": "MzudxIsW5H2u",
        "outputId": "1ff7e623-e9d7-414f-b5c7-2f6505f0623b",
        "colab": {
          "base_uri": "https://localhost:8080/",
          "height": 467
        }
      },
      "execution_count": 38,
      "outputs": [
        {
          "output_type": "stream",
          "name": "stdout",
          "text": [
            "[58, 89, 47]\n"
          ]
        },
        {
          "output_type": "display_data",
          "data": {
            "text/plain": [
              "<Figure size 640x480 with 1 Axes>"
            ],
            "image/png": "[encoded data removed]"
          },
          "metadata": {}
        },
        {
          "output_type": "display_data",
          "data": {
            "text/plain": [
              "<Figure size 640x480 with 0 Axes>"
            ]
          },
          "metadata": {}
        }
      ]
    }
  ]
}