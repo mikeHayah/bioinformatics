{
  "nbformat": 4,
  "nbformat_minor": 0,
  "metadata": {
    "colab": {
      "provenance": [],
      "include_colab_link": true
    },
    "kernelspec": {
      "name": "python3",
      "display_name": "Python 3"
    },
    "language_info": {
      "name": "python"
    }
  },
  "cells": [
    {
      "cell_type": "markdown",
      "metadata": {
        "id": "view-in-github",
        "colab_type": "text"
      },
      "source": [
        "<a href=\"https://colab.research.google.com/github/mikeHayah/bioinformatics/blob/TUD_exersices/EX1_2024.ipynb\" target=\"_parent\"><img src=\"https://colab.research.google.com/assets/colab-badge.svg\" alt=\"Open In Colab\"/></a>"
      ]
    },
    {
      "cell_type": "markdown",
      "source": [
        "# Tutorial 1: Basic Python\n",
        "\n",
        "Solve the following tasks in the code cells. For some tasks you will find suggestions or some code snipplets that may be used as a starting point. If you have alternative solutions you can just ignore that. Those sniplets will create errors when not filled out. If you are not using them just comment the lines out using the \"#\" symbol."
      ],
      "metadata": {
        "id": "hRquYdSGLueD"
      }
    },
    {
      "cell_type": "markdown",
      "source": [
        "## Question 1: How everyone started\n",
        "\n",
        "Write a line of python code that outputs Hello World!"
      ],
      "metadata": {
        "id": "KGFi4NnNLxf0"
      }
    },
    {
      "cell_type": "code",
      "execution_count": null,
      "metadata": {
        "id": "owbh4x_LLah3",
        "outputId": "f0a67757-df35-4c1a-a8c2-455182188bbb",
        "colab": {
          "base_uri": "https://localhost:8080/"
        }
      },
      "outputs": [
        {
          "output_type": "stream",
          "name": "stdout",
          "text": [
            "Hello\n"
          ]
        }
      ],
      "source": [
        "print('Hello')"
      ]
    },
    {
      "cell_type": "markdown",
      "source": [
        "## Question 2: Data Types\n",
        "\n",
        "Now it's about basic datatypes in python. We will work with the following data\n",
        "types:\n",
        "\n",
        "* Numeric: integer (int), floating point number (float)\n",
        "\n",
        "* Strings: str; e.g. example_string = 'test'\n",
        "\n",
        "* Sequence types: list, tuple, range; e.g. example_list = [1,'1',1.0]\n",
        "\n",
        "* Mapping data types: dictionary (dict); e.g. example_dict = {1:'test', someList:[1,2,3]}\n",
        "\n",
        "* Boolean data type: bool; e.g. example_bool = True\n",
        "\n",
        "* Set data type: set\n",
        "\n",
        "\n",
        "---\n",
        "\n",
        "Tasks:\n",
        "\n",
        "0. Add a comment (#) to every line of code explaining what the code is doing\n",
        "\n",
        "1. Go to [UniProt](https://www.uniprot.org/) and retrieve the sequence\n",
        "of RNASE1 for Horse and the Common Mink Whale. Copy both and store them\n",
        "as strings in two variabels (e.g. Horse_RNASE1 and Whale_RNASE1)\n",
        "\n",
        "2. Create a variable \"first_alanine\" that has an integer value assigned\n",
        "referring to the position of the first alanine (A) in the Horse RNASE1. Use it\n",
        "to print out the first alanine from the sequence with print(string[first_alanine])\n",
        "\n",
        "3. Now hand the same value as a float to the \"first_alanine\" variable. Try to\n",
        "print it again and check the difference.\n",
        "\n",
        "4. There is a binding site between position 41 and 45 (KPVNT) in the Whale\n",
        "RNASE1 sequence. Print this sniplet from the Horse_RNASE1 variable using the\n",
        "[...] notation. Hint: You will need to use a \":\" .\n",
        "\n",
        "5. Not everyone can understand the amino acid codes. Create a dictionary\n",
        "that can be used as a lookup for Lysine, Proline, Valine, Asparagine, and Threonine. It should take the one letter code as a key to return the full name.\n",
        "Now print out the AA name of the active site amino acids from task 4 using the\n",
        "dictionary.\n",
        "\n",
        "6. You want to know how many different amino acids are in the Horse RNASE1.\n",
        "Try to count the unique elements by converting the \"Horse_RNASE1\" into a set in\n",
        "combination with the \"[len](https://www.w3schools.com/python/ref_func_len.asp)()\" function.\n",
        "\n",
        "\n",
        "\n",
        "Hint: check https://www.digitalocean.com/community/tutorials/python-data-types\n",
        "for help. The web is full of python guides. If you get stuck just google your\n",
        "problem. If that still does not help ask the machine overlord ChatGTP. It is\n",
        "good practice to find solutions in forums such as stack overflow. ChatGTP will\n",
        "not solve all problems (yet)."
      ],
      "metadata": {
        "id": "HUh2ERy7L1op"
      }
    },
    {
      "cell_type": "code",
      "source": [
        "# 1. Create two variables storing the sequences of RNASE1 horse + whale\n",
        "\n",
        "Horse_RNASE1 = 'KESPAMKFERQHMDSGSTSSSNPTYCNQMMKRRNMTQGWCKPVNTFVHEPLADVQAICLQKNITCKNGQSNCYQSSSSMHITDCRLTSGSKYPNCAYQTSQKERHIIVACEGNPYVPVHFDASVEVST'\n",
        "\n",
        "Whale_RNASE1 = 'RESPAMKFQRQHMDSGNSPGNNPNYCNQMMMRRKMTQGRCKPVNTFVHESLEDVKAVCSQKNVLCKNGRTNCYESNSTMHITDCRQTGSSKYPNCAYKTSQKEKHIIVACEGNPYVPVHFDNSV'\n"
      ],
      "metadata": {
        "id": "82ip4qcx1DoS"
      },
      "execution_count": null,
      "outputs": []
    },
    {
      "cell_type": "code",
      "source": [
        "# 2. Create an index variable (int)\n",
        "\n",
        "first_alanine = int(Horse_RNASE1.find('A'))\n",
        "\n",
        "# use it to access string data\n",
        "print(Horse_RNASE1[first_alanine])"
      ],
      "metadata": {
        "id": "83F86CVn1Dw9",
        "outputId": "e3a9fe47-29bf-4bde-d46c-6e7db9426e4b",
        "colab": {
          "base_uri": "https://localhost:8080/"
        }
      },
      "execution_count": null,
      "outputs": [
        {
          "output_type": "stream",
          "name": "stdout",
          "text": [
            "A\n"
          ]
        }
      ]
    },
    {
      "cell_type": "code",
      "source": [
        "# 3. Create an index variable (float)\n",
        "first_alanine = float(Horse_RNASE1.find('A'))\n",
        "\n",
        "# use it to access string data\n",
        "print(Horse_RNASE1[first_alanine])"
      ],
      "metadata": {
        "id": "cuUL3SHE1D2t",
        "outputId": "acf4ff3e-67ba-4cb9-a9e1-5d0dc81fda11",
        "colab": {
          "base_uri": "https://localhost:8080/",
          "height": 183
        }
      },
      "execution_count": null,
      "outputs": [
        {
          "output_type": "error",
          "ename": "TypeError",
          "evalue": "string indices must be integers",
          "traceback": [
            "\u001b[0;31m---------------------------------------------------------------------------\u001b[0m",
            "\u001b[0;31mTypeError\u001b[0m                                 Traceback (most recent call last)",
            "\u001b[0;32m<ipython-input-8-164feb2b5cf8>\u001b[0m in \u001b[0;36m<cell line: 5>\u001b[0;34m()\u001b[0m\n\u001b[1;32m      3\u001b[0m \u001b[0;34m\u001b[0m\u001b[0m\n\u001b[1;32m      4\u001b[0m \u001b[0;31m# use it to access string data\u001b[0m\u001b[0;34m\u001b[0m\u001b[0;34m\u001b[0m\u001b[0m\n\u001b[0;32m----> 5\u001b[0;31m \u001b[0mprint\u001b[0m\u001b[0;34m(\u001b[0m\u001b[0mHorse_RNASE1\u001b[0m\u001b[0;34m[\u001b[0m\u001b[0mfirst_alanine\u001b[0m\u001b[0;34m]\u001b[0m\u001b[0;34m)\u001b[0m\u001b[0;34m\u001b[0m\u001b[0;34m\u001b[0m\u001b[0m\n\u001b[0m",
            "\u001b[0;31mTypeError\u001b[0m: string indices must be integers"
          ]
        }
      ]
    },
    {
      "cell_type": "code",
      "source": [
        "# 4. Print out active site of the Whale_RNASE1\n",
        "print(Horse_RNASE1[40:45])"
      ],
      "metadata": {
        "id": "oJd3nJ0r1D8l",
        "outputId": "7cc55996-e3a0-4f8c-99d9-eef9c5f93442",
        "colab": {
          "base_uri": "https://localhost:8080/"
        }
      },
      "execution_count": null,
      "outputs": [
        {
          "output_type": "stream",
          "name": "stdout",
          "text": [
            "KPVNT\n"
          ]
        }
      ]
    },
    {
      "cell_type": "code",
      "source": [
        "# 5. Finish the lookup for the aa code\n",
        "aa_lookup = {'K':'Lysine', 'P':'Prolin', 'V':'Valin', 'N':'Asparagin', 'T':'Threonin'}\n",
        "\n",
        "# print the translation\n",
        "print (list(map(lambda a: aa_lookup[a], Horse_RNASE1[40:45])))"
      ],
      "metadata": {
        "id": "fK0QaMvJ1ECJ",
        "outputId": "10350920-04d6-4794-9818-7fe1600a6a47",
        "colab": {
          "base_uri": "https://localhost:8080/"
        }
      },
      "execution_count": null,
      "outputs": [
        {
          "output_type": "stream",
          "name": "stdout",
          "text": [
            "['Lysine', 'Prolin', 'Valin', 'Asparagin', 'Threonin']\n"
          ]
        }
      ]
    },
    {
      "cell_type": "code",
      "source": [
        "# 6. Counting unique elements in thr Horse RNASE1\n",
        "import numpy as np\n",
        "print(len(np.unique(list(map(lambda charac:charac , Horse_RNASE1)))))\n",
        "print(len(set(Horse_RNASE1)))"
      ],
      "metadata": {
        "id": "-zVdSTY01EHP",
        "outputId": "592017e8-e43e-401d-f429-2c17acf46e5d",
        "colab": {
          "base_uri": "https://localhost:8080/"
        }
      },
      "execution_count": null,
      "outputs": [
        {
          "output_type": "stream",
          "name": "stdout",
          "text": [
            "20\n",
            "20\n"
          ]
        }
      ]
    },
    {
      "cell_type": "markdown",
      "source": [
        "# Question 3: Loops\n",
        "\n",
        "Loops are a basic building block in every programming language and are used\n",
        "to automate repetitive tasks.\n",
        "\n",
        "The `range()` function is used to generate a sequence of numbers. The syntax of the `range()` function is as follows:   \n",
        "\n",
        "Syntax: `range([start,] stop [,step])`\n",
        "* Start (optional): the starting point of the sequence. It defaults to 0.\n",
        "* Stop (required): the endpoint of the sequence. This item will not be included in the sequence.\n",
        "* Step (optional): the step size of the sequence. It defaults to 1.\n",
        "\n",
        "For example, `range(1,6)` will produce a sequence of numbers from 1 to 5 (be careful, it is not the values of 1 to 6). If one changes it to `range(6)`, the value 0 will also be included because the default start is 0.    \n",
        "\n",
        "Tasks:\n",
        "\n",
        "1. Redo question 5 of the last part. Now use a for loop with the range function\n",
        "such that you dont have to copy the same line over and over again.\n",
        "\n",
        "2. Print only specific characters from a string. Write a loop that iterates\n",
        "the whole Horse RNASE1 sequence but prints only \"K\"s. Hint: Check out what an\n",
        "if statement is and how the == operator can be used for this task.\n",
        "\n",
        "3. Adapt the loop from two such that you can count how often a character (and here specifically \" is\n",
        "occuring. Hint: You have to create a new integer variable. You can use the += operator to increase its value within the loop.\n",
        "\n",
        "4. Reverse String: Given a string, create a for loop that prints the characters of the string in reverse order. Use the Whale RNASE1 sequence. Hint: Check what happens if you add two strings.\n",
        "e.g. \"a\" + \"b\"; or \"\" + \"abc\"\n",
        "\n",
        "5. (Harder one) Use your knowledge about for loops, if statements, and counting to iterate\n",
        "over both sequences at once counting perfect matches. Hint: Check what the \"zip\" function is doing and how it can be used to create such loop.\n",
        "If this is still too boring try to print both Sequences as in the lecture with *\n",
        "denoting matches. e.g.:\n",
        "\n",
        "\n",
        "\n",
        "```\n",
        "RESP\n",
        " ***\n",
        "KESP\n",
        "```\n",
        "\n",
        "\n",
        "\n",
        "Hint: Check https://www.digitalocean.com/community/tutorials/python-for-loop-example for help. Or Google... or ChatGTP."
      ],
      "metadata": {
        "id": "7v3ZmFWpNQWw"
      }
    },
    {
      "cell_type": "code",
      "source": [
        "# 1. Iterate over the positions 40 - 44 while printing from the dictionary in\n",
        "# each iteration\n",
        "\n",
        "for i in range(40,45):\n",
        "  print(aa_lookup[Horse_RNASE1[i]])"
      ],
      "metadata": {
        "id": "NlkSE74k1QN0",
        "colab": {
          "base_uri": "https://localhost:8080/"
        },
        "outputId": "bf8669bf-8090-42e4-f7a2-fe81dc4a1195"
      },
      "execution_count": null,
      "outputs": [
        {
          "output_type": "stream",
          "name": "stdout",
          "text": [
            "Lysine\n",
            "Prolin\n",
            "Valin\n",
            "Asparagin\n",
            "Threonin\n"
          ]
        }
      ]
    },
    {
      "cell_type": "code",
      "source": [
        "# 2. Print only K while iterating the whole string\n",
        "\n",
        "for char in Horse_RNASE1:\n",
        "  if char == 'K':\n",
        "    print(aa_lookup[char])"
      ],
      "metadata": {
        "id": "8casU0k11QTH",
        "colab": {
          "base_uri": "https://localhost:8080/"
        },
        "outputId": "68591715-55da-4a07-ee64-f137f7c28078"
      },
      "execution_count": null,
      "outputs": [
        {
          "output_type": "stream",
          "name": "stdout",
          "text": [
            "Lysine\n",
            "Lysine\n",
            "Lysine\n",
            "Lysine\n",
            "Lysine\n",
            "Lysine\n",
            "Lysine\n",
            "Lysine\n"
          ]
        }
      ]
    },
    {
      "cell_type": "code",
      "source": [
        "# 3. Counting K in the Horse RNASE 1\n",
        "count = 0\n",
        "for char in Horse_RNASE1:\n",
        "  if char== 'K':\n",
        "    print(aa_lookup[char])\n",
        "    count += 1\n",
        "print(count)"
      ],
      "metadata": {
        "id": "9yNJxADZ1QXM",
        "colab": {
          "base_uri": "https://localhost:8080/"
        },
        "outputId": "1e0ba647-8252-4135-b784-ff7ab5f423a1"
      },
      "execution_count": null,
      "outputs": [
        {
          "output_type": "stream",
          "name": "stdout",
          "text": [
            "Lysine\n",
            "Lysine\n",
            "Lysine\n",
            "Lysine\n",
            "Lysine\n",
            "Lysine\n",
            "Lysine\n",
            "Lysine\n",
            "8\n"
          ]
        }
      ]
    },
    {
      "cell_type": "code",
      "source": [
        "# 4. Reverse string\n",
        "reversed_string = \"\"  # Initialize empty string for reversed characters\n",
        "for char in Whale_RNASE1:\n",
        "  reversed_string = char + reversed_string\n",
        "print(Whale_RNASE1)\n",
        "print(reversed_string)"
      ],
      "metadata": {
        "id": "FVoy3JCS1QbW",
        "colab": {
          "base_uri": "https://localhost:8080/"
        },
        "outputId": "7f834763-1129-425f-932b-655369921807"
      },
      "execution_count": null,
      "outputs": [
        {
          "output_type": "stream",
          "name": "stdout",
          "text": [
            "RESPAMKFQRQHMDSGNSPGNNPNYCNQMMMRRKMTQGRCKPVNTFVHESLEDVKAVCSQKNVLCKNGRTNCYESNSTMHITDCRQTGSSKYPNCAYKTSQKEKHIIVACEGNPYVPVHFDNSV\n",
            "VSNDFHVPVYPNGECAVIIHKEKQSTKYACNPYKSSGTQRCDTIHMTSNSEYCNTRGNKCLVNKQSCVAKVDELSEHVFTNVPKCRGQTMKRRMMMQNCYNPNNGPSNGSDMHQRQFKMAPSER\n"
          ]
        }
      ]
    },
    {
      "cell_type": "code",
      "source": [
        "# 5. Perfect matches\n",
        "matches = 0\n",
        "result=\"\"\n",
        "for a, b in zip(Horse_RNASE1, Whale_RNASE1):\n",
        "  if a == b:\n",
        "    matches +=1\n",
        "    result = result+a\n",
        "  else:\n",
        "    result = result+'*'\n",
        "print(matches)\n",
        "print(Horse_RNASE1,'\\n',Whale_RNASE1,'\\n',result, sep='')"
      ],
      "metadata": {
        "id": "2J_3JDVW1Qev",
        "colab": {
          "base_uri": "https://localhost:8080/"
        },
        "outputId": "ed0df1c6-f3a7-4a15-de0a-546f913de1bf"
      },
      "execution_count": null,
      "outputs": [
        {
          "output_type": "stream",
          "name": "stdout",
          "text": [
            "95\n",
            "KESPAMKFERQHMDSGSTSSSNPTYCNQMMKRRNMTQGWCKPVNTFVHEPLADVQAICLQKNITCKNGQSNCYQSSSSMHITDCRLTSGSKYPNCAYQTSQKERHIIVACEGNPYVPVHFDASVEVST\n",
            "RESPAMKFQRQHMDSGNSPGNNPNYCNQMMMRRKMTQGRCKPVNTFVHESLEDVKAVCSQKNVLCKNGRTNCYESNSTMHITDCRQTGSSKYPNCAYKTSQKEKHIIVACEGNPYVPVHFDNSV\n",
            "*ESPAMKF*RQHMDSG*****NP*YCNQMM*RR*MTQG*CKPVNTFVHE*L*DV*A*C*QKN**CKNG**NCY*S*S*MHITDCR*T**SKYPNCAY*TSQKE*HIIVACEGNPYVPVHFD*SV\n"
          ]
        }
      ]
    },
    {
      "cell_type": "markdown",
      "source": [
        "# Question 4: Functions\n",
        "\n",
        "\n",
        "Some basics about functions in python. Functions are defined by the \"def\"\n",
        "statement followed by closed brackets \"()\" that can contain input variables.\n",
        "Afterwards \":\" starts the function body which is a block statement and will\n",
        "be executed when the function is called. If the function should return something\n",
        "the body is closed by the optional return statement followed by whatever\n",
        "the output should be. Functions are typically used if complex operation\n",
        "have to be applied in multiple parts of the code (there are more reasons to use functions but this is relevant only for advanced programming). Further they are the foundation of object orientated programming.  \n",
        "\n",
        "Example 1 \"No input no return\"\n",
        "\n",
        "\n",
        "```\n",
        "def show_my_string():\n",
        "  my_string = \"abcd\"\n",
        "  print(my_string)\n",
        "\n",
        "show_my_string()\n",
        "\n",
        ">>> abcd\n",
        "\n",
        "# This is the same as:\n",
        "\n",
        "def show_my_string():\n",
        "  print(\"abcd\")\n",
        "\n",
        "```\n",
        "\n",
        "Example 2 \"Input and return\"\n",
        "\n",
        "\n",
        "\n",
        "```\n",
        "def divide(a,b):\n",
        "  c = a / b\n",
        "\n",
        "  return c\n",
        "\n",
        "result = divide(10, 5)\n",
        "\n",
        "print(result)\n",
        "\n",
        ">>> 2\n",
        "\n",
        "# This is the same as:\n",
        "\n",
        "def divide(a,b):\n",
        "  return a / b\n",
        "\n",
        "```\n",
        "\n",
        "---\n",
        "\n",
        "1. Create a function that takes a string variable as input and prints its value. Use it to print the Horse_RNASE1 or Whale_RNASE1\n",
        "\n",
        "2. Create a function that counts perfect matches of two strings.\n",
        "\n",
        "3. Create a function that takes two strings as input and combines both to a single string. Create two variables one containing the first half of the\n",
        "Whale RNASE1 and the other containing the second half of the Horse RNASE1. Use your new function to combine both halfs into a third variable.\n",
        "\n",
        "4. How many perfect matches does the newly created RNASE1 have with the Whale RNASE1 and with the Horse RNASE1. Use the function created in task 2.\n",
        "\n",
        "5. Now that you have calculated the perfect matches for 3 combinations (Whale vs. Horse, Whale vs. HalfHalf, Horse vs. HalfHalf) you want to compute the average number of perfect matches. Create a function that takes a list of integers or floats and returns the arithmetic mean.\n",
        "\n",
        "Hint: Check https://www.digitalocean.com/community/tutorials/how-to-define-functions-in-python-3"
      ],
      "metadata": {
        "id": "RlIhsSXWdcAg"
      }
    },
    {
      "cell_type": "code",
      "source": [
        "# 1. Print a string\n",
        "def print_string(some_string):\n",
        "  print(some_string)\n",
        "\n",
        "print_string(Horse_RNASE1)\n",
        "print_string(Whale_RNASE1)"
      ],
      "metadata": {
        "id": "TdKEPRLG1Xdy",
        "colab": {
          "base_uri": "https://localhost:8080/"
        },
        "outputId": "e97d0eb2-b121-4b4c-ce54-8f808b8f2562"
      },
      "execution_count": null,
      "outputs": [
        {
          "output_type": "stream",
          "name": "stdout",
          "text": [
            "KESPAMKFERQHMDSGSTSSSNPTYCNQMMKRRNMTQGWCKPVNTFVHEPLADVQAICLQKNITCKNGQSNCYQSSSSMHITDCRLTSGSKYPNCAYQTSQKERHIIVACEGNPYVPVHFDASVEVST\n",
            "RESPAMKFQRQHMDSGNSPGNNPNYCNQMMMRRKMTQGRCKPVNTFVHESLEDVKAVCSQKNVLCKNGRTNCYESNSTMHITDCRQTGSSKYPNCAYKTSQKEKHIIVACEGNPYVPVHFDNSV\n"
          ]
        }
      ]
    },
    {
      "cell_type": "code",
      "source": [
        "# 2. Matches\n",
        "def perfect_matches(string_a, string_b):\n",
        "  matches=0\n",
        "  result = \"\"\n",
        "  for a, b in zip(string_a, string_b):\n",
        "    if a == b:\n",
        "      matches += 1\n",
        "      result = result + a\n",
        "    else:\n",
        "      result = result + \"*\"\n",
        "  return matches, result\n",
        "\n",
        "perfect_matches(Horse_RNASE1, Whale_RNASE1)"
      ],
      "metadata": {
        "id": "iBex4QSN1XhS",
        "colab": {
          "base_uri": "https://localhost:8080/"
        },
        "outputId": "3c7d42f4-05e4-4cac-d136-403e38c475d2"
      },
      "execution_count": null,
      "outputs": [
        {
          "output_type": "execute_result",
          "data": {
            "text/plain": [
              "(95,\n",
              " '*ESPAMKF*RQHMDSG*****NP*YCNQMM*RR*MTQG*CKPVNTFVHE*L*DV*A*C*QKN**CKNG**NCY*S*S*MHITDCR*T**SKYPNCAY*TSQKE*HIIVACEGNPYVPVHFD*SV')"
            ]
          },
          "metadata": {},
          "execution_count": 24
        }
      ]
    },
    {
      "cell_type": "code",
      "source": [
        "# 3. Combine strings\n",
        "def combine_strings(string_a, string_b):\n",
        "  return string_a + string_b\n",
        "print(Whale_RNASE1)\n",
        "print(Horse_RNASE1)\n",
        "combine_strings(Horse_RNASE1[:int(len(Whale_RNASE1)/2)], Horse_RNASE1[int(len(Horse_RNASE1)/2):])"
      ],
      "metadata": {
        "id": "J83mC8O_1Xkq",
        "colab": {
          "base_uri": "https://localhost:8080/",
          "height": 110
        },
        "outputId": "8b5958f2-b32a-4244-f00b-53d4453b6982"
      },
      "execution_count": null,
      "outputs": [
        {
          "output_type": "stream",
          "name": "stdout",
          "text": [
            "RESPAMKFQRQHMDSGNSPGNNPNYCNQMMMRRKMTQGRCKPVNTFVHESLEDVKAVCSQKNVLCKNGRTNCYESNSTMHITDCRQTGSSKYPNCAYKTSQKEKHIIVACEGNPYVPVHFDNSV\n",
            "KESPAMKFERQHMDSGSTSSSNPTYCNQMMKRRNMTQGWCKPVNTFVHEPLADVQAICLQKNITCKNGQSNCYQSSSSMHITDCRLTSGSKYPNCAYQTSQKERHIIVACEGNPYVPVHFDASVEVST\n"
          ]
        },
        {
          "output_type": "execute_result",
          "data": {
            "text/plain": [
              "'KESPAMKFERQHMDSGSTSSSNPTYCNQMMKRRNMTQGWCKPVNTFVHEPLADVQAICLQKNCKNGQSNCYQSSSSMHITDCRLTSGSKYPNCAYQTSQKERHIIVACEGNPYVPVHFDASVEVST'"
            ],
            "application/vnd.google.colaboratory.intrinsic+json": {
              "type": "string"
            }
          },
          "metadata": {},
          "execution_count": 35
        }
      ]
    },
    {
      "cell_type": "code",
      "source": [
        "# 4. Find perfect matches\n",
        "new_RNASE1 = combine_strings(Whale_RNASE1[:int(len(Whale_RNASE1)/2)], Horse_RNASE1[int(len(Horse_RNASE1)/2):])\n",
        "print(perfect_matches(new_RNASE1, Whale_RNASE1))\n",
        "print(perfect_matches(new_RNASE1, Horse_RNASE1))\n"
      ],
      "metadata": {
        "id": "c63TiE_91XoO",
        "colab": {
          "base_uri": "https://localhost:8080/"
        },
        "outputId": "6293dd11-f010-4fa5-a981-87a15848f8b5"
      },
      "execution_count": null,
      "outputs": [
        {
          "output_type": "stream",
          "name": "stdout",
          "text": [
            "(65, 'RESPAMKFQRQHMDSGNSPGNNPNYCNQMMMRRKMTQGRCKPVNTFVHESLEDVKAVCSQKN************S****************************************V*******V')\n",
            "(51, '*ESPAMKF*RQHMDSG*****NP*YCNQMM*RR*MTQG*CKPVNTFVHE*L*DV*A*C*QKN************SS***********S***************************V*******V**')\n"
          ]
        }
      ]
    },
    {
      "cell_type": "code",
      "source": [
        "# 5. Compute the mean of a list\n",
        "def comp_mean(numbers):\n",
        "  print(numbers)\n",
        "  sum = 0\n",
        "  for n in numbers:\n",
        "    sum = sum + n\n",
        "  return (sum/len(numbers))\n",
        "\n",
        "comp_mean([perfect_matches(Horse_RNASE1, Whale_RNASE1)[0], perfect_matches(new_RNASE1, Horse_RNASE1)[0], perfect_matches(new_RNASE1, Whale_RNASE1)[0]])"
      ],
      "metadata": {
        "id": "wEW8sWhv1Xrv",
        "colab": {
          "base_uri": "https://localhost:8080/"
        },
        "outputId": "5a824b5b-ee04-4052-f577-83c3f354b9af"
      },
      "execution_count": null,
      "outputs": [
        {
          "output_type": "stream",
          "name": "stdout",
          "text": [
            "[95, 51, 65]\n"
          ]
        },
        {
          "output_type": "execute_result",
          "data": {
            "text/plain": [
              "70.33333333333333"
            ]
          },
          "metadata": {},
          "execution_count": 49
        }
      ]
    },
    {
      "cell_type": "code",
      "source": [
        "!pip freeze"
      ],
      "metadata": {
        "colab": {
          "base_uri": "https://localhost:8080/"
        },
        "id": "8-KSWPhkLxOU",
        "outputId": "1facd796-22f3-4e76-d55a-235e3b4e8b86"
      },
      "execution_count": null,
      "outputs": [
        {
          "output_type": "stream",
          "name": "stdout",
          "text": [
            "absl-py==1.4.0\n",
            "accelerate==0.32.1\n",
            "aiohttp==3.9.5\n",
            "aiosignal==1.3.1\n",
            "alabaster==0.7.16\n",
            "albumentations==1.3.1\n",
            "altair==4.2.2\n",
            "annotated-types==0.7.0\n",
            "anyio==3.7.1\n",
            "argon2-cffi==23.1.0\n",
            "argon2-cffi-bindings==21.2.0\n",
            "array_record==0.5.1\n",
            "arviz==0.15.1\n",
            "astropy==5.3.4\n",
            "astunparse==1.6.3\n",
            "async-timeout==4.0.3\n",
            "atpublic==4.1.0\n",
            "attrs==23.2.0\n",
            "audioread==3.0.1\n",
            "autograd==1.6.2\n",
            "Babel==2.15.0\n",
            "backcall==0.2.0\n",
            "beautifulsoup4==4.12.3\n",
            "bidict==0.23.1\n",
            "bigframes==1.11.1\n",
            "bleach==6.1.0\n",
            "blinker==1.4\n",
            "blis==0.7.11\n",
            "blosc2==2.0.0\n",
            "bokeh==3.3.4\n",
            "bqplot==0.12.43\n",
            "branca==0.7.2\n",
            "build==1.2.1\n",
            "CacheControl==0.14.0\n",
            "cachetools==5.4.0\n",
            "catalogue==2.0.10\n",
            "certifi==2024.7.4\n",
            "cffi==1.16.0\n",
            "chardet==5.2.0\n",
            "charset-normalizer==3.3.2\n",
            "chex==0.1.86\n",
            "click==8.1.7\n",
            "click-plugins==1.1.1\n",
            "cligj==0.7.2\n",
            "cloudpathlib==0.18.1\n",
            "cloudpickle==2.2.1\n",
            "cmake==3.27.9\n",
            "cmdstanpy==1.2.4\n",
            "colorcet==3.1.0\n",
            "colorlover==0.3.0\n",
            "colour==0.1.5\n",
            "community==1.0.0b1\n",
            "confection==0.1.5\n",
            "cons==0.4.6\n",
            "contextlib2==21.6.0\n",
            "contourpy==1.2.1\n",
            "cryptography==42.0.8\n",
            "cuda-python==12.2.1\n",
            "cudf-cu12 @ https://pypi.nvidia.com/cudf-cu12/cudf_cu12-24.4.1-cp310-cp310-manylinux_2_28_x86_64.whl#sha256=57366e7ef09dc63e0b389aff20df6c37d91e2790065861ee31a4720149f5b694\n",
            "cufflinks==0.17.3\n",
            "cupy-cuda12x==12.2.0\n",
            "cvxopt==1.3.2\n",
            "cvxpy==1.3.4\n",
            "cycler==0.12.1\n",
            "cymem==2.0.8\n",
            "Cython==3.0.10\n",
            "dask==2023.8.1\n",
            "datascience==0.17.6\n",
            "db-dtypes==1.2.0\n",
            "dbus-python==1.2.18\n",
            "debugpy==1.6.6\n",
            "decorator==4.4.2\n",
            "defusedxml==0.7.1\n",
            "distributed==2023.8.1\n",
            "distro==1.7.0\n",
            "dlib==19.24.4\n",
            "dm-tree==0.1.8\n",
            "docstring_parser==0.16\n",
            "docutils==0.18.1\n",
            "dopamine_rl==4.0.9\n",
            "duckdb==0.10.3\n",
            "earthengine-api==0.1.412\n",
            "easydict==1.13\n",
            "ecos==2.0.14\n",
            "editdistance==0.6.2\n",
            "eerepr==0.0.4\n",
            "en-core-web-sm @ https://github.com/explosion/spacy-models/releases/download/en_core_web_sm-3.7.1/en_core_web_sm-3.7.1-py3-none-any.whl#sha256=86cc141f63942d4b2c5fcee06630fd6f904788d2f0ab005cce45aadb8fb73889\n",
            "entrypoints==0.4\n",
            "et-xmlfile==1.1.0\n",
            "etils==1.7.0\n",
            "etuples==0.3.9\n",
            "exceptiongroup==1.2.2\n",
            "fastai==2.7.15\n",
            "fastcore==1.5.54\n",
            "fastdownload==0.0.7\n",
            "fastjsonschema==2.20.0\n",
            "fastprogress==1.0.3\n",
            "fastrlock==0.8.2\n",
            "filelock==3.15.4\n",
            "fiona==1.9.6\n",
            "firebase-admin==5.3.0\n",
            "Flask==2.2.5\n",
            "flatbuffers==24.3.25\n",
            "flax==0.8.4\n",
            "folium==0.14.0\n",
            "fonttools==4.53.1\n",
            "frozendict==2.4.4\n",
            "frozenlist==1.4.1\n",
            "fsspec==2023.6.0\n",
            "future==0.18.3\n",
            "gast==0.6.0\n",
            "gcsfs==2023.6.0\n",
            "GDAL==3.6.4\n",
            "gdown==5.1.0\n",
            "geemap==0.33.1\n",
            "gensim==4.3.2\n",
            "geocoder==1.38.1\n",
            "geographiclib==2.0\n",
            "geopandas==0.13.2\n",
            "geopy==2.3.0\n",
            "gin-config==0.5.0\n",
            "glob2==0.7\n",
            "google==2.0.3\n",
            "google-ai-generativelanguage==0.6.6\n",
            "google-api-core==2.19.1\n",
            "google-api-python-client==2.137.0\n",
            "google-auth==2.27.0\n",
            "google-auth-httplib2==0.2.0\n",
            "google-auth-oauthlib==1.2.1\n",
            "google-cloud-aiplatform==1.59.0\n",
            "google-cloud-bigquery==3.25.0\n",
            "google-cloud-bigquery-connection==1.15.4\n",
            "google-cloud-bigquery-storage==2.25.0\n",
            "google-cloud-bigtable==2.24.0\n",
            "google-cloud-core==2.4.1\n",
            "google-cloud-datastore==2.19.0\n",
            "google-cloud-firestore==2.16.1\n",
            "google-cloud-functions==1.16.4\n",
            "google-cloud-iam==2.15.1\n",
            "google-cloud-language==2.13.4\n",
            "google-cloud-pubsub==2.22.0\n",
            "google-cloud-resource-manager==1.12.4\n",
            "google-cloud-storage==2.8.0\n",
            "google-cloud-translate==3.15.4\n",
            "google-colab @ file:///colabtools/dist/google-colab-1.0.0.tar.gz#sha256=65b31ad680b7063c692f771ae49ae443b9b227ab591838f3be1133ab1ec3b088\n",
            "google-crc32c==1.5.0\n",
            "google-generativeai==0.7.2\n",
            "google-pasta==0.2.0\n",
            "google-resumable-media==2.7.1\n",
            "googleapis-common-protos==1.63.2\n",
            "googledrivedownloader==0.4\n",
            "graphviz==0.20.3\n",
            "greenlet==3.0.3\n",
            "grpc-google-iam-v1==0.13.1\n",
            "grpcio==1.64.1\n",
            "grpcio-status==1.48.2\n",
            "gspread==6.0.2\n",
            "gspread-dataframe==3.3.1\n",
            "gym==0.25.2\n",
            "gym-notices==0.0.8\n",
            "h5netcdf==1.3.0\n",
            "h5py==3.9.0\n",
            "holidays==0.53\n",
            "holoviews==1.17.1\n",
            "html5lib==1.1\n",
            "httpimport==1.3.1\n",
            "httplib2==0.22.0\n",
            "huggingface-hub==0.23.5\n",
            "humanize==4.7.0\n",
            "hyperopt==0.2.7\n",
            "ibis-framework==8.0.0\n",
            "idna==3.7\n",
            "imageio==2.31.6\n",
            "imageio-ffmpeg==0.5.1\n",
            "imagesize==1.4.1\n",
            "imbalanced-learn==0.10.1\n",
            "imgaug==0.4.0\n",
            "immutabledict==4.2.0\n",
            "importlib_metadata==8.0.0\n",
            "importlib_resources==6.4.0\n",
            "imutils==0.5.4\n",
            "inflect==7.0.0\n",
            "iniconfig==2.0.0\n",
            "intel-openmp==2023.2.4\n",
            "ipyevents==2.0.2\n",
            "ipyfilechooser==0.6.0\n",
            "ipykernel==5.5.6\n",
            "ipyleaflet==0.18.2\n",
            "ipyparallel==8.8.0\n",
            "ipython==7.34.0\n",
            "ipython-genutils==0.2.0\n",
            "ipython-sql==0.5.0\n",
            "ipytree==0.2.2\n",
            "ipywidgets==7.7.1\n",
            "itsdangerous==2.2.0\n",
            "jax==0.4.26\n",
            "jaxlib @ https://storage.googleapis.com/jax-releases/cuda12/jaxlib-0.4.26+cuda12.cudnn89-cp310-cp310-manylinux2014_x86_64.whl#sha256=813cf1fe3e7ca4dbf5327d6e7b4fc8521e92d8bba073ee645ae0d5d036a25750\n",
            "jeepney==0.7.1\n",
            "jellyfish==1.0.4\n",
            "jieba==0.42.1\n",
            "Jinja2==3.1.4\n",
            "joblib==1.4.2\n",
            "jsonpickle==3.2.2\n",
            "jsonschema==4.19.2\n",
            "jsonschema-specifications==2023.12.1\n",
            "jupyter-client==6.1.12\n",
            "jupyter-console==6.1.0\n",
            "jupyter-server==1.24.0\n",
            "jupyter_core==5.7.2\n",
            "jupyterlab_pygments==0.3.0\n",
            "jupyterlab_widgets==3.0.11\n",
            "kaggle==1.6.14\n",
            "kagglehub==0.2.8\n",
            "keras==2.15.0\n",
            "keyring==23.5.0\n",
            "kiwisolver==1.4.5\n",
            "langcodes==3.4.0\n",
            "language_data==1.2.0\n",
            "launchpadlib==1.10.16\n",
            "lazr.restfulclient==0.14.4\n",
            "lazr.uri==1.0.6\n",
            "lazy_loader==0.4\n",
            "libclang==18.1.1\n",
            "librosa==0.10.2.post1\n",
            "lightgbm==4.1.0\n",
            "linkify-it-py==2.0.3\n",
            "llvmlite==0.41.1\n",
            "locket==1.0.0\n",
            "logical-unification==0.4.6\n",
            "lxml==4.9.4\n",
            "malloy==2023.1067\n",
            "marisa-trie==1.2.0\n",
            "Markdown==3.6\n",
            "markdown-it-py==3.0.0\n",
            "MarkupSafe==2.1.5\n",
            "matplotlib==3.7.1\n",
            "matplotlib-inline==0.1.7\n",
            "matplotlib-venn==0.11.10\n",
            "mdit-py-plugins==0.4.1\n",
            "mdurl==0.1.2\n",
            "miniKanren==1.0.3\n",
            "missingno==0.5.2\n",
            "mistune==0.8.4\n",
            "mizani==0.9.3\n",
            "mkl==2023.2.0\n",
            "ml-dtypes==0.2.0\n",
            "mlxtend==0.22.0\n",
            "more-itertools==10.1.0\n",
            "moviepy==1.0.3\n",
            "mpmath==1.3.0\n",
            "msgpack==1.0.8\n",
            "multidict==6.0.5\n",
            "multipledispatch==1.0.0\n",
            "multitasking==0.0.11\n",
            "murmurhash==1.0.10\n",
            "music21==9.1.0\n",
            "natsort==8.4.0\n",
            "nbclassic==1.1.0\n",
            "nbclient==0.10.0\n",
            "nbconvert==6.5.4\n",
            "nbformat==5.10.4\n",
            "nest-asyncio==1.6.0\n",
            "networkx==3.3\n",
            "nibabel==4.0.2\n",
            "nltk==3.8.1\n",
            "notebook==6.5.5\n",
            "notebook_shim==0.2.4\n",
            "numba==0.58.1\n",
            "numexpr==2.10.1\n",
            "numpy==1.25.2\n",
            "nvtx==0.2.10\n",
            "oauth2client==4.1.3\n",
            "oauthlib==3.2.2\n",
            "opencv-contrib-python==4.8.0.76\n",
            "opencv-python==4.8.0.76\n",
            "opencv-python-headless==4.10.0.84\n",
            "openpyxl==3.1.5\n",
            "opt-einsum==3.3.0\n",
            "optax==0.2.2\n",
            "orbax-checkpoint==0.4.4\n",
            "osqp==0.6.2.post8\n",
            "packaging==24.1\n",
            "pandas==2.0.3\n",
            "pandas-datareader==0.10.0\n",
            "pandas-gbq==0.19.2\n",
            "pandas-stubs==2.0.3.230814\n",
            "pandocfilters==1.5.1\n",
            "panel==1.3.8\n",
            "param==2.1.1\n",
            "parso==0.8.4\n",
            "parsy==2.1\n",
            "partd==1.4.2\n",
            "pathlib==1.0.1\n",
            "patsy==0.5.6\n",
            "peewee==3.17.6\n",
            "pexpect==4.9.0\n",
            "pickleshare==0.7.5\n",
            "Pillow==9.4.0\n",
            "pip-tools==6.13.0\n",
            "platformdirs==4.2.2\n",
            "plotly==5.15.0\n",
            "plotnine==0.12.4\n",
            "pluggy==1.5.0\n",
            "polars==0.20.2\n",
            "pooch==1.8.2\n",
            "portpicker==1.5.2\n",
            "prefetch-generator==1.0.3\n",
            "preshed==3.0.9\n",
            "prettytable==3.10.2\n",
            "proglog==0.1.10\n",
            "progressbar2==4.2.0\n",
            "prometheus_client==0.20.0\n",
            "promise==2.3\n",
            "prompt_toolkit==3.0.47\n",
            "prophet==1.1.5\n",
            "proto-plus==1.24.0\n",
            "protobuf==3.20.3\n",
            "psutil==5.9.5\n",
            "psycopg2==2.9.9\n",
            "ptyprocess==0.7.0\n",
            "py-cpuinfo==9.0.0\n",
            "py4j==0.10.9.7\n",
            "pyarrow==14.0.2\n",
            "pyarrow-hotfix==0.6\n",
            "pyasn1==0.6.0\n",
            "pyasn1_modules==0.4.0\n",
            "pycocotools==2.0.8\n",
            "pycparser==2.22\n",
            "pydantic==2.8.2\n",
            "pydantic_core==2.20.1\n",
            "pydata-google-auth==1.8.2\n",
            "pydot==1.4.2\n",
            "pydot-ng==2.0.0\n",
            "pydotplus==2.0.2\n",
            "PyDrive==1.3.1\n",
            "PyDrive2==1.6.3\n",
            "pyerfa==2.0.1.4\n",
            "pygame==2.6.0\n",
            "Pygments==2.16.1\n",
            "PyGObject==3.42.1\n",
            "PyJWT==2.3.0\n",
            "pymc==5.10.4\n",
            "pymystem3==0.2.0\n",
            "pynvjitlink-cu12==0.3.0\n",
            "PyOpenGL==3.1.7\n",
            "pyOpenSSL==24.1.0\n",
            "pyparsing==3.1.2\n",
            "pyperclip==1.9.0\n",
            "pyproj==3.6.1\n",
            "pyproject_hooks==1.1.0\n",
            "pyshp==2.3.1\n",
            "PySocks==1.7.1\n",
            "pytensor==2.18.6\n",
            "pytest==7.4.4\n",
            "python-apt==2.4.0\n",
            "python-box==7.2.0\n",
            "python-dateutil==2.8.2\n",
            "python-louvain==0.16\n",
            "python-slugify==8.0.4\n",
            "python-utils==3.8.2\n",
            "pytz==2023.4\n",
            "pyviz_comms==3.0.2\n",
            "PyWavelets==1.6.0\n",
            "PyYAML==6.0.1\n",
            "pyzmq==24.0.1\n",
            "qdldl==0.1.7.post4\n",
            "qudida==0.0.4\n",
            "ratelim==0.1.6\n",
            "referencing==0.35.1\n",
            "regex==2024.5.15\n",
            "requests==2.31.0\n",
            "requests-oauthlib==1.3.1\n",
            "requirements-parser==0.9.0\n",
            "rich==13.7.1\n",
            "rmm-cu12==24.4.0\n",
            "rpds-py==0.19.0\n",
            "rpy2==3.4.2\n",
            "rsa==4.9\n",
            "safetensors==0.4.3\n",
            "scikit-image==0.19.3\n",
            "scikit-learn==1.2.2\n",
            "scipy==1.11.4\n",
            "scooby==0.10.0\n",
            "scs==3.2.6\n",
            "seaborn==0.13.1\n",
            "SecretStorage==3.3.1\n",
            "Send2Trash==1.8.3\n",
            "sentencepiece==0.1.99\n",
            "shapely==2.0.5\n",
            "shellingham==1.5.4\n",
            "simple_parsing==0.1.5\n",
            "six==1.16.0\n",
            "sklearn-pandas==2.2.0\n",
            "smart-open==7.0.4\n",
            "sniffio==1.3.1\n",
            "snowballstemmer==2.2.0\n",
            "sortedcontainers==2.4.0\n",
            "soundfile==0.12.1\n",
            "soupsieve==2.5\n",
            "soxr==0.3.7\n",
            "spacy==3.7.5\n",
            "spacy-legacy==3.0.12\n",
            "spacy-loggers==1.0.5\n",
            "Sphinx==5.0.2\n",
            "sphinxcontrib-applehelp==1.0.8\n",
            "sphinxcontrib-devhelp==1.0.6\n",
            "sphinxcontrib-htmlhelp==2.0.5\n",
            "sphinxcontrib-jsmath==1.0.1\n",
            "sphinxcontrib-qthelp==1.0.7\n",
            "sphinxcontrib-serializinghtml==1.1.10\n",
            "SQLAlchemy==2.0.31\n",
            "sqlglot==20.11.0\n",
            "sqlparse==0.5.1\n",
            "srsly==2.4.8\n",
            "stanio==0.5.1\n",
            "statsmodels==0.14.2\n",
            "StrEnum==0.4.15\n",
            "sympy==1.13.0\n",
            "tables==3.8.0\n",
            "tabulate==0.9.0\n",
            "tbb==2021.13.0\n",
            "tblib==3.0.0\n",
            "tenacity==8.5.0\n",
            "tensorboard==2.15.2\n",
            "tensorboard-data-server==0.7.2\n",
            "tensorflow @ https://storage.googleapis.com/colab-tf-builds-public-09h6ksrfwbb9g9xv/tensorflow-2.15.0-cp310-cp310-manylinux_2_17_x86_64.manylinux2014_x86_64.whl#sha256=a2ec79931350b378c1ef300ca836b52a55751acb71a433582508a07f0de57c42\n",
            "tensorflow-datasets==4.9.6\n",
            "tensorflow-estimator==2.15.0\n",
            "tensorflow-gcs-config==2.15.0\n",
            "tensorflow-hub==0.16.1\n",
            "tensorflow-io-gcs-filesystem==0.37.1\n",
            "tensorflow-metadata==1.15.0\n",
            "tensorflow-probability==0.23.0\n",
            "tensorstore==0.1.45\n",
            "termcolor==2.4.0\n",
            "terminado==0.18.1\n",
            "text-unidecode==1.3\n",
            "textblob==0.17.1\n",
            "tf-slim==1.1.0\n",
            "tf_keras==2.15.1\n",
            "thinc==8.2.5\n",
            "threadpoolctl==3.5.0\n",
            "tifffile==2024.7.2\n",
            "tinycss2==1.3.0\n",
            "tokenizers==0.19.1\n",
            "toml==0.10.2\n",
            "tomli==2.0.1\n",
            "toolz==0.12.1\n",
            "torch @ https://download.pytorch.org/whl/cu121/torch-2.3.1%2Bcu121-cp310-cp310-linux_x86_64.whl#sha256=f0deb5d2f932a68ed54625ba140eddbf2af22be978ee19b9b63c986add6425b2\n",
            "torchaudio @ https://download.pytorch.org/whl/cu121/torchaudio-2.3.1%2Bcu121-cp310-cp310-linux_x86_64.whl#sha256=0b423f4ae3356f11f6723e8c77208ac3f9361a4f941e4cc08d86c32c137594bc\n",
            "torchsummary==1.5.1\n",
            "torchtext==0.18.0\n",
            "torchvision @ https://download.pytorch.org/whl/cu121/torchvision-0.18.1%2Bcu121-cp310-cp310-linux_x86_64.whl#sha256=e95ba5a2c616939281e01babf11664d6d1725e81bba57ef81f81c3e57e4d4151\n",
            "tornado==6.3.3\n",
            "tqdm==4.66.4\n",
            "traitlets==5.7.1\n",
            "traittypes==0.2.1\n",
            "transformers==4.42.4\n",
            "triton==2.3.1\n",
            "tweepy==4.14.0\n",
            "typer==0.12.3\n",
            "types-pytz==2024.1.0.20240417\n",
            "types-setuptools==70.3.0.20240710\n",
            "typing_extensions==4.12.2\n",
            "tzdata==2024.1\n",
            "tzlocal==5.2\n",
            "uc-micro-py==1.0.3\n",
            "uritemplate==4.1.1\n",
            "urllib3==2.0.7\n",
            "vega-datasets==0.9.0\n",
            "wadllib==1.3.6\n",
            "wasabi==1.1.3\n",
            "wcwidth==0.2.13\n",
            "weasel==0.4.1\n",
            "webcolors==24.6.0\n",
            "webencodings==0.5.1\n",
            "websocket-client==1.8.0\n",
            "Werkzeug==3.0.3\n",
            "widgetsnbextension==3.6.7\n",
            "wordcloud==1.9.3\n",
            "wrapt==1.14.1\n",
            "xarray==2023.7.0\n",
            "xarray-einstats==0.7.0\n",
            "xgboost==2.0.3\n",
            "xlrd==2.0.1\n",
            "xyzservices==2024.6.0\n",
            "yarl==1.9.4\n",
            "yellowbrick==1.5\n",
            "yfinance==0.2.40\n",
            "zict==3.0.0\n",
            "zipp==3.19.2\n"
          ]
        }
      ]
    }
  ]
}