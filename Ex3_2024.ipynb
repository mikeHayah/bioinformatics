{
  "nbformat": 4,
  "nbformat_minor": 0,
  "metadata": {
    "colab": {
      "provenance": [],
      "include_colab_link": true
    },
    "kernelspec": {
      "name": "python3",
      "display_name": "Python 3"
    },
    "language_info": {
      "name": "python"
    }
  },
  "cells": [
    {
      "cell_type": "markdown",
      "metadata": {
        "id": "view-in-github",
        "colab_type": "text"
      },
      "source": [
        "<a href=\"https://colab.research.google.com/github/mikeHayah/bioinformatics/blob/TUD_exercises/Ex3_2024.ipynb\" target=\"_parent\"><img src=\"https://colab.research.google.com/assets/colab-badge.svg\" alt=\"Open In Colab\"/></a>"
      ]
    },
    {
      "cell_type": "markdown",
      "source": [
        "# Task 1: Advanced Sequence handling - Recap\n",
        "# From DNA to Protein\n",
        "\n",
        "You're interested in comparing the RNASE1 protein sequence of a third organism with those of whales and horses. However, rather than having the protein sequence, you only possess the DNA sequence of the RNASE1 gene written in 5' to 3' direction, including information about the locations of introns.\n",
        "\n",
        "1. Write a function that takes a DNA sequence (written in 5' to 3' direction) as input, transcribes it into RNA, and returns the transcript in 5' to 3' direction. To do this, use a dictionary and a for loop. Consider base pair complementarity, the difference in the bases between DNA and RNA, and the direction of transcription. Call the function with your gene and save the transcript in a variable.\n",
        "\n",
        "2. You know that there are three introns in the transcript at the following locations: intron 1 (393 to 474), intron 2 (601 to 713), and intron 3 (853 to 1011). Remove the introns from the transcript using string slicing to get the mRNA sequence. Save the mRNA in a variable.\n",
        "\n",
        "3. You now want to translate the mRNA sequence into the protein sequence. First, you need to determine the position of the first start codon within the mRNA sequence. Write a function that takes an mRNA sequence as input and uses a for loop to locate the index of the first start codon. Call the function with your mRNA and save the index in a variable. Validate your result by slicing the mRNA sequence with this index.\n",
        "\n",
        "4. Next, write a function that takes an mRNA sequence as input and translates the mRNA into the protein sequence using a for loop, the codon_dict, and your function that locates the start codon. Consider that translation stops at a stop codon represented by \"*\" in the codon_dict. The \"*\" should not be part of the protein sequence. Call the function with your mRNA sequence and save the protein sequence in a variable.\n",
        "\n",
        "5. Remove the first Methionine (M) from the beginning of the protein sequence using string slicing to obtain the mature protein sequence.\n",
        "\n",
        "6. Find out which organism the RNASE1 protein sequence belongs to. Protein BLAST (https://blast.ncbi.nlm.nih.gov) is a fast sequence search tool that identifies the protein sequences most similar to your query sequence. A hit with 100% sequence coverage and 100% sequence identity is identical to your sequence. Go to the BLAST website, choose \"Protein BLAST\", paste your protein sequence into the search field, and click \"BLAST\". Can you find out which organism the sequence belongs to?\n",
        "\n",
        "7. Compare your protein sequence with those of whales and horses by counting the perfect matches between the sequences. According to the number of perfect matches, which of the two sequences is closer to your protein?\n",
        "\n",
        "8. Introduce a shift of one into your protein sequence by adding a \"-\" to the beginning of the sequence. Count the perfect matches again using your shifted sequence. How does it change the result?"
      ],
      "metadata": {
        "id": "r9GXVZvs7PYv"
      }
    },
    {
      "cell_type": "code",
      "execution_count": null,
      "metadata": {
        "id": "AJLsaCNS7LVK"
      },
      "outputs": [],
      "source": [
        "gene = \"CGGGAGTCTCGCCACACCGGGCTAGTATTAACTGAAGGGGTAAATAAAAACGGGCCCCTTGAGTACTGAT\"\\\n",
        "       \"TAGGGCGAAGGGCCTAATGCGCGTGGCTAAACTTCGGCACGAATAATTGGGTGGACGACTGATGGAACGC\"\\\n",
        "       \"GTTCCTTCTACGCCACCTGCTAGCGGACGTGAGAGAGGCGAAAAATTCTCTTAAAGGCTATACATATGCA\"\\\n",
        "       \"TCGAAGTGCACTGGCACGTACTGGCCTTCGCAGGCCACTATAATTTGCTTGTTCAGGTTACGGCTTTCGA\"\\\n",
        "       \"TGGCGACACCTTTCTAAAGGAGAGTAAAAGTGGAGGCCGACTCGATGGACAACAGATAGGTCAGACGCCG\"\\\n",
        "       \"GGGCGTTTTGGAACCCGGAAAGTTAAATGCGAGAGAGAGGCTTGGCATAGGGTAATGGCATCAACGTAAC\"\\\n",
        "       \"TACGGAGCTGTGGTTTCATACTGACAGTTCGGGTACTTTGAAGCCCCTGTTTGACGGCAGTTTGTAATGC\"\\\n",
        "       \"TCAATCTGGAGTTAGATTTATAGCAATTTGTACGTCCATTTTTACAAGTTACGTTCTCCTGATGACACAC\"\\\n",
        "       \"GGCATCAACTGCCTCACTCGCGACAGGTATCAGCCCTGTTGTGGGACGGAGCATTCAGGGCTATAACGGT\"\\\n",
        "       \"TATTTACAAGCATAGATGACGGGTGGTGTATGAAACTGCCTGTACTATAGTATACAGATTTCGGTTCATG\"\\\n",
        "       \"GATGAAAGTATTCAGGGGTTTGCAGCGCCCGGATGTCATGTCGCGGGCCTTCATCATTAGGTTGCAATAA\"\\\n",
        "       \"TTAGAGCTAGATGCAGTGGAGTGTTCAGTGTCCATATGCCCGGTGGCAAGGGTGGTGGTCCCGAATCGAG\"\\\n",
        "       \"AATCTGAATATCATCTAGTCTCGACGGGCTAGCGGGTGAGCGCTGTGTCTCTGTCTTTGGAATTTCTCTG\"\\\n",
        "       \"CGGGGGTTTCCATACTCCGGTCCTCTACCTCCGACGTCACTCGACACTAGTGTGGTGACACGAGGTCGGA\"\\\n",
        "       \"CTCACTGTCTCGTTCTGGGATAGAGTTTTTTTTTTTTTTTTTTCTTTTCGAGGACTCCACCTCTGCGGTT\"\\\n",
        "       \"GAGAGAGATCGAGCGATCACCCAACGTCCTCCACGAATGCGTACAAACAAAGAAACGACGGCAGAAGGTC\"\\\n",
        "       \"AACGAAATAGACAAGTGAACACGGGACTGAAAGTTGAGACAGAGGAAGGAGAAGGATGTCGTGAGGGGAC\"\\\n",
        "       \"GGGAGTTGTTCTACAAAACGGTTGACCGGTTCTGGACGGGACACGTCGACACCCAACTAAGGTGTGGGGG\"\\\n",
        "       \"CGGGCCGTGGGCGCAGGCGCGG\"\n",
        "\n",
        "codon_dict = {'UUU': 'F', 'UUC': 'F', 'UUA': 'L', 'UUG': 'L',\n",
        "              'CUU': 'L', 'CUC': 'L', 'CUA': 'L', 'CUG': 'L',\n",
        "              'AUU': 'I', 'AUC': 'I', 'AUA': 'I', 'AUG': 'M',\n",
        "              'GUU': 'V', 'GUC': 'V', 'GUA': 'V', 'GUG': 'V',\n",
        "              'UCU': 'S', 'UCC': 'S', 'UCA': 'S', 'UCG': 'S',\n",
        "              'CCU': 'P', 'CCC': 'P', 'CCA': 'P', 'CCG': 'P',\n",
        "              'ACU': 'T', 'ACC': 'T', 'ACA': 'T', 'ACG': 'T',\n",
        "              'GCU': 'A', 'GCC': 'A', 'GCA': 'A', 'GCG': 'A',\n",
        "              'UAU': 'Y', 'UAC': 'Y', 'UAA': '*', 'UAG': '*',\n",
        "              'CAU': 'H', 'CAC': 'H', 'CAA': 'Q', 'CAG': 'Q',\n",
        "              'AAU': 'N', 'AAC': 'N', 'AAA': 'K', 'AAG': 'K',\n",
        "              'GAU': 'D', 'GAC': 'D', 'GAA': 'E', 'GAG': 'E',\n",
        "              'UGU': 'C', 'UGC': 'C', 'UGA': '*', 'UGG': 'W',\n",
        "              'CGU': 'R', 'CGC': 'R', 'CGA': 'R', 'CGG': 'R',\n",
        "              'AGU': 'S', 'AGC': 'S', 'AGA': 'R', 'AGG': 'R',\n",
        "              'GGU': 'G', 'GGC': 'G', 'GGA': 'G', 'GGG': 'G'}\n",
        "\n",
        "Horse_RNASE1 = 'KESPAMKFERQHMDSGSTSSSNPTYCNQMMKRRNMTQGWCKPVNTFVHEPLADVQAICLQKNITCKNGQSNCYQSSSSMHITDCRLTSGSKYPNCAYQTSQKERHIIVACEGNPYVPVHFDASVEVST'\n",
        "\n",
        "Whale_RNASE1 = 'RESPAMKFQRQHMDSGNSPGNNPNYCNQMMMRRKMTQGRCKPVNTFVHESLEDVKAVCSQKNVLCKNGRTNCYESNSTMHITDCRQTGSSKYPNCAYKTSQKEKHIIVACEGNPYVPVHFDNSV'\n",
        "\n",
        "\n",
        "# 1. Transcription\n",
        "def transcribe(dna_sequence):\n",
        "\n",
        "  # lookup for the transcription\n",
        "  transcription_dict = {}\n",
        "\n",
        "  # return reversed transcript to get 5' to 3' direction\n",
        "  return\n",
        "\n",
        "# 2. Remove introns\n",
        "mRNA =\n",
        "\n",
        "# 3. Find start codon\n",
        "\n",
        "# 4. Translate to mRNA\n",
        "\n",
        "def translate(mRNA_sequence):\n",
        "  return\n",
        "\n",
        "protein_sequence = translate(mRNA)\n",
        "\n",
        "# 5. Remove the first Methionine\n",
        "protein_sequence =\n",
        "\n",
        "# 6. Identify organism\n",
        "print(f\"Protein sequence: {protein_sequence}\")\n",
        "\n",
        "# 7. Compare to horse and whale\n",
        "# use perfect match function\n",
        "\n",
        "# 8. Shift the sequenc and compare again"
      ]
    },
    {
      "cell_type": "markdown",
      "source": [
        "# Task 2: PDB and Python\n",
        "\n",
        "In the lecture, it was shown how to retrieve a FASTA file from UniProt using the requests library. In the first part of this exercise, we would like to work out a Pipeline that retrieves a PDB file for a given ID, extracts the sequence data, and finally converts the three-letter sequence into a one-letter representation. For this task, you can use the PDB ID 1LH1 as an example. Remember that using google is not a shame.\n",
        "\n",
        "\n",
        "---\n",
        "\n",
        "1. Retrieve a PDB file. Therefore, you first need to import the [request library](https://pypi.org/project/requests/). The URL for PDB will be https://files.rcsb.org/download/PDB_ID.pdb in which you have to replace the \"PDB_ID\" with an actual ID. Figure out what an [F-String](https://realpython.com/python-f-strings/) is and how it can be used here. With requests.get(URL) you can retrieve the content of the URL. Write a function that takes a single PDB id and returns the content of the file in text format.\n",
        "\n",
        "2. The [PDB file format](https://en.wikipedia.org/wiki/Protein_Data_Bank_(file_format)) is highly standardized and therefore well suited to be computationally exploited. Each line starts with a code word telling what kind of information will follow after. We want to get sequence information found after \"SEQRES\". Write a function that iterates (line-wise) over the textual content of the PDB file you retrieved, checks if a line starts with SEQRES, and returns the full three-letter encoded sequence. Hint: Use .split(\"\\n\") in order to iterate over the individual lines of the file.\n",
        "\n",
        "3. Now that you have the sequence you want to convert it into the [one-letter code](https://www.cup.uni-muenchen.de/ch/compchem/tink/as.html). Therefore, you first need to split the sequence into triplets and afterward convert each triplet into the one-letter representation. Hint: You may want to create a lookup dictionary.  \n",
        "\n",
        "4. **Bonus task** for the fast ones. Write a function that creates a [fasta file](https://en.wikipedia.org/wiki/FASTA_format) from the sequence. It should take as input the sequence, a header string, and an optional comment string. Remember that each line in a FASTA file should contain at most 80 characters (does not apply for the header). Make sure that this rule is fulfilled.\n",
        "\n",
        "5. **Bonus Bonus task**. If that still was not enough revisit the lecture slides and code to get pyMol running in colab to visualize your pdb file."
      ],
      "metadata": {
        "id": "oBV30cF-7e5k"
      }
    },
    {
      "cell_type": "code",
      "source": [
        "# Get a PDB file with requests\n",
        "\n",
        "import requests\n",
        "\n",
        "def fetch_pdb_file(pdb_id):\n",
        "    \"\"\"\n",
        "    Fetches a PDB file by its ID using the RCSB PDB API.\n",
        "\n",
        "    Args:\n",
        "    - pdb_id (str): The ID of the PDB file to fetch.\n",
        "\n",
        "    Returns:\n",
        "    - pdb_data (str): The content of the PDB file.\n",
        "    \"\"\"\n",
        "\n",
        "    # URL for fetching PDB file by ID --> Should adapt the default url by the\n",
        "    # pdb_id\n",
        "    url = \"\"\n",
        "\n",
        "    # Send GET request to fetch the PDB file\n",
        "    response = requests.get(url)\n",
        "\n",
        "    # return the response in text format\n",
        "    return\n",
        "\n",
        "pdb_id = \"1LH1\"  # Example PDB ID\n",
        "pdb_data = fetch_pdb_file(pdb_id)\n",
        "\n",
        "print(pdb_data)"
      ],
      "metadata": {
        "id": "67Q1UiLh7m7O"
      },
      "execution_count": null,
      "outputs": []
    },
    {
      "cell_type": "code",
      "source": [
        "# Get the sequence from a PDB file\n",
        "\n",
        "def extract_sequence_from_pdb(pdb_data):\n",
        "    \"\"\"\n",
        "    Extracts the sequence information from a PDB file content.\n",
        "\n",
        "    Args:\n",
        "    - pdb_data (str): The content of the PDB file.\n",
        "\n",
        "    Returns:\n",
        "    - sequence (str): The sequence information extracted from the PDB file.\n",
        "    \"\"\"\n",
        "\n",
        "    # Initialize an empty string to store the sequence\n",
        "    sequence = \"\"\n",
        "\n",
        "    # Split the PDB data by lines\n",
        "    lines = pdb_data.split(\"\\n\")\n",
        "\n",
        "    # Iterate through each line in the PDB data\n",
        "    for line in lines:\n",
        "\n",
        "\n",
        "    return sequence\n",
        "\n",
        "sequence = extract_sequence_from_pdb(pdb_data)\n",
        "print(sequence)"
      ],
      "metadata": {
        "id": "6xy6ygEt8HQv"
      },
      "execution_count": null,
      "outputs": []
    },
    {
      "cell_type": "code",
      "source": [
        "# Convert to FASTA\n",
        "\n",
        "def three_to_fasta(sequence, header=\"Sequence\", comment=None):\n",
        "      # First create dictionary lookups for the code\n",
        "      aa_codes = {\n",
        "        'ALA': 'A', 'ARG': 'R', 'ASN': 'N', 'ASP': 'D', 'CYS': 'C',\n",
        "        'GLN': 'Q', 'GLU': 'E', 'GLY': 'G', 'HIS': 'H', 'ILE': 'I',\n",
        "        'LEU': 'L', 'LYS': 'K', 'MET': 'M', 'PHE': 'F', 'PRO': 'P',\n",
        "        'SER': 'S', 'THR': 'T', 'TRP': 'W', 'TYR': 'Y', 'VAL': 'V'\n",
        "      }\n",
        "\n",
        "      # Splitting the sequence into triplets\n",
        "      # Initialize an empty list to store triplets\n",
        "      triplets = []\n",
        "\n",
        "      # Iterate through the sequence with a step size of 3\n",
        "      for i in range(0, len(sequence), 3):\n",
        "        triplets.append()\n",
        "\n",
        "      # Construct the Fasta header\n",
        "      # optional add comment if provided\n",
        "\n",
        "      # Optional: Insert line breaks to limit each line to 80 characters\n",
        "\n",
        "\n",
        "      # Construct the Fasta format string combining sequence and header\n",
        "      fasta_str =\n",
        "\n",
        "      return fasta_str"
      ],
      "metadata": {
        "id": "BKufG0pk8W_N"
      },
      "execution_count": null,
      "outputs": []
    }
  ]
}